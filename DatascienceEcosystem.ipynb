{
  "nbformat": 4,
  "nbformat_minor": 0,
  "metadata": {
    "colab": {
      "provenance": []
    },
    "kernelspec": {
      "name": "python3",
      "display_name": "Python 3"
    },
    "language_info": {
      "name": "python"
    }
  },
  "cells": [
    {
      "cell_type": "markdown",
      "source": [
        "# Data Science Tools and Ecosystem\n",
        "\n"
      ],
      "metadata": {
        "id": "5x7f1Ixol8rh"
      }
    },
    {
      "cell_type": "markdown",
      "source": [
        "In this notebook, Data Science Tools and Ecosystem are summarized.\n"
      ],
      "metadata": {
        "id": "x5QkOqJWmX_b"
      }
    },
    {
      "cell_type": "markdown",
      "source": [
        "Some of the popular languages that Data Scientists use are:"
      ],
      "metadata": {
        "id": "gcOUyg1_mp8s"
      }
    },
    {
      "cell_type": "markdown",
      "source": [
        "\n",
        "\n",
        "1. Python\n",
        "2. R\n",
        "3. C++\n",
        "\n"
      ],
      "metadata": {
        "id": "WWu-Pes2msB8"
      }
    },
    {
      "cell_type": "markdown",
      "source": [
        "Some of the commonly used libraries used by Data Scientists include:"
      ],
      "metadata": {
        "id": "zG4mjN6FnNdw"
      }
    },
    {
      "cell_type": "markdown",
      "source": [
        "\n",
        "\n",
        "1. Matplotlb\n",
        "2. pandas\n",
        "3. numpy\n",
        "\n"
      ],
      "metadata": {
        "id": "kuXHFvjrnQpy"
      }
    },
    {
      "cell_type": "markdown",
      "source": [
        "\n",
        "| Data Science Tools |\n",
        "| ----- |\n",
        "| Apache Spark |\n",
        "| R studio |\n",
        "| Anaconda |\n",
        "\n",
        "\n"
      ],
      "metadata": {
        "id": "0cXRHTkXnzgp"
      }
    },
    {
      "cell_type": "markdown",
      "source": [
        "### Below are a few examples of evaluating arithmetic expressions in Python"
      ],
      "metadata": {
        "id": "qAUOfUjnqLcO"
      }
    },
    {
      "cell_type": "markdown",
      "source": [
        "this a simple arithmetic expression to mutiply then add integers"
      ],
      "metadata": {
        "id": "Nw8O9VTyqce0"
      }
    },
    {
      "cell_type": "code",
      "source": [
        "(3*4)+5"
      ],
      "metadata": {
        "colab": {
          "base_uri": "https://localhost:8080/"
        },
        "id": "hzp828_1qjTP",
        "outputId": "4c0a5fb9-b25b-42ff-e96b-db979eaadb3c"
      },
      "execution_count": 1,
      "outputs": [
        {
          "output_type": "execute_result",
          "data": {
            "text/plain": [
              "17"
            ]
          },
          "metadata": {},
          "execution_count": 1
        }
      ]
    },
    {
      "cell_type": "markdown",
      "source": [
        "This will convert 200 minutes to hours by diving by 60"
      ],
      "metadata": {
        "id": "tM-ekTJjrITP"
      }
    },
    {
      "cell_type": "code",
      "source": [
        "200/60"
      ],
      "metadata": {
        "colab": {
          "base_uri": "https://localhost:8080/"
        },
        "id": "ozH_I5TArH5X",
        "outputId": "aab14d0f-80d7-48bb-c1ea-51029b3aace2"
      },
      "execution_count": 2,
      "outputs": [
        {
          "output_type": "execute_result",
          "data": {
            "text/plain": [
              "3.3333333333333335"
            ]
          },
          "metadata": {},
          "execution_count": 2
        }
      ]
    },
    {
      "cell_type": "markdown",
      "source": [
        "**Objectives:**"
      ],
      "metadata": {
        "id": "IRniFVhNrs-o"
      }
    },
    {
      "cell_type": "markdown",
      "source": [
        "\n",
        "\n",
        "*   Learned to code in python\n",
        "*   Learned to code in R\n",
        "*   learned how to use git and github\n",
        "**bold text**\n",
        "\n"
      ],
      "metadata": {
        "id": "9ZdHmbMiruSL"
      }
    },
    {
      "cell_type": "markdown",
      "source": [
        "## Author\n",
        "Louay Baalbaki"
      ],
      "metadata": {
        "id": "wpsxo9ALsHwT"
      }
    }
  ]
}